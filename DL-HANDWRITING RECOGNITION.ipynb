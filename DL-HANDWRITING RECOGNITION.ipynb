{
 "cells": [
  {
   "cell_type": "code",
   "execution_count": 71,
   "id": "4bb3f481",
   "metadata": {},
   "outputs": [],
   "source": [
    "import tensorflow as tf \n",
    "tf.compat.v1.set_random_seed(42)"
   ]
  },
  {
   "cell_type": "code",
   "execution_count": 72,
   "id": "98b51034",
   "metadata": {},
   "outputs": [],
   "source": [
    "(Trainx,Trainy),(TestX,TestY)=tf.keras.datasets.mnist.load_data()"
   ]
  },
  {
   "cell_type": "code",
   "execution_count": 73,
   "id": "1dd5459d",
   "metadata": {},
   "outputs": [],
   "source": [
    "Trainy=tf.keras.utils.to_categorical(Trainy,num_classes=10)\n",
    "TestY=tf.keras.utils.to_categorical(TestY,num_classes=10)"
   ]
  },
  {
   "cell_type": "code",
   "execution_count": 74,
   "id": "15905fc2",
   "metadata": {},
   "outputs": [],
   "source": [
    "from keras.models import Sequential\n",
    "modelclass=tf.keras.models.Sequential()"
   ]
  },
  {
   "cell_type": "code",
   "execution_count": 75,
   "id": "dfaeebc9",
   "metadata": {},
   "outputs": [],
   "source": [
    "modelclass.add(tf.keras.layers.Reshape((784,),input_shape=(28,28)))\n",
    "modelclass.add(tf.keras.layers.BatchNormalization())"
   ]
  },
  {
   "cell_type": "code",
   "execution_count": 76,
   "id": "a7c4b4fc",
   "metadata": {},
   "outputs": [],
   "source": [
    "modelclass.add(tf.keras.layers.Dense(200,activation='sigmoid'))"
   ]
  },
  {
   "cell_type": "code",
   "execution_count": 77,
   "id": "df56fda3",
   "metadata": {},
   "outputs": [],
   "source": [
    "modelclass.add(tf.keras.layers.Dropout(0.25))"
   ]
  },
  {
   "cell_type": "code",
   "execution_count": 78,
   "id": "4d7f8ab1",
   "metadata": {},
   "outputs": [],
   "source": [
    "modelclass.add(tf.keras.layers.Dense(100,activation='sigmoid'))"
   ]
  },
  {
   "cell_type": "code",
   "execution_count": 79,
   "id": "2ff896a3",
   "metadata": {},
   "outputs": [],
   "source": [
    "modelclass.add(tf.keras.layers.Dense(60,activation='sigmoid'))"
   ]
  },
  {
   "cell_type": "code",
   "execution_count": 80,
   "id": "7d1e71b7",
   "metadata": {},
   "outputs": [],
   "source": [
    "modelclass.add(tf.keras.layers.Dropout(0.25))"
   ]
  },
  {
   "cell_type": "code",
   "execution_count": 81,
   "id": "e743800e",
   "metadata": {},
   "outputs": [],
   "source": [
    "modelclass.add(tf.keras.layers.Dense(30,activation='sigmoid'))"
   ]
  },
  {
   "cell_type": "code",
   "execution_count": 82,
   "id": "d111b395",
   "metadata": {},
   "outputs": [],
   "source": [
    "modelclass.add(tf.keras.layers.Dense(10,activation='softmax'))"
   ]
  },
  {
   "cell_type": "code",
   "execution_count": 83,
   "id": "92422824",
   "metadata": {},
   "outputs": [],
   "source": [
    "tensorboard=tf.keras.callbacks.TensorBoard(\n",
    "    log_dir='logs',\n",
    "    histogram_freq=0,\n",
    "    write_graph=True,\n",
    "    write_images=True,\n",
    "    write_steps_per_second=True,\n",
    "    update_freq='epoch',\n",
    "    profile_batch=0,\n",
    "    embeddings_freq=0,\n",
    "    embeddings_metadata=None,\n",
    "  \n",
    ")"
   ]
  },
  {
   "cell_type": "code",
   "execution_count": 84,
   "id": "1d987c59",
   "metadata": {},
   "outputs": [],
   "source": [
    "sgd_optimizer=tf.keras.optimizers.SGD(learning_rate=0.1,decay=0.002,momentum=0.91)"
   ]
  },
  {
   "cell_type": "code",
   "execution_count": 85,
   "id": "15cd4f5c",
   "metadata": {},
   "outputs": [],
   "source": [
    "modelclass.compile(optimizer='sgd',loss='categorical_crossentropy',metrics=['accuracy'])"
   ]
  },
  {
   "cell_type": "code",
   "execution_count": 86,
   "id": "ef8d673a",
   "metadata": {},
   "outputs": [
    {
     "name": "stdout",
     "output_type": "stream",
     "text": [
      "Model: \"sequential_1\"\n",
      "_________________________________________________________________\n",
      " Layer (type)                Output Shape              Param #   \n",
      "=================================================================\n",
      " reshape_1 (Reshape)         (None, 784)               0         \n",
      "                                                                 \n",
      " batch_normalization_1 (Batc  (None, 784)              3136      \n",
      " hNormalization)                                                 \n",
      "                                                                 \n",
      " dense_11 (Dense)            (None, 200)               157000    \n",
      "                                                                 \n",
      " dropout_2 (Dropout)         (None, 200)               0         \n",
      "                                                                 \n",
      " dense_12 (Dense)            (None, 100)               20100     \n",
      "                                                                 \n",
      " dense_13 (Dense)            (None, 60)                6060      \n",
      "                                                                 \n",
      " dropout_3 (Dropout)         (None, 60)                0         \n",
      "                                                                 \n",
      " dense_14 (Dense)            (None, 30)                1830      \n",
      "                                                                 \n",
      " dense_15 (Dense)            (None, 10)                310       \n",
      "                                                                 \n",
      "=================================================================\n",
      "Total params: 188,436\n",
      "Trainable params: 186,868\n",
      "Non-trainable params: 1,568\n",
      "_________________________________________________________________\n"
     ]
    }
   ],
   "source": [
    "modelclass.summary()"
   ]
  },
  {
   "cell_type": "code",
   "execution_count": null,
   "id": "3fc872a4",
   "metadata": {},
   "outputs": [],
   "source": []
  },
  {
   "cell_type": "code",
   "execution_count": 87,
   "id": "69a40ff2",
   "metadata": {},
   "outputs": [
    {
     "name": "stdout",
     "output_type": "stream",
     "text": [
      "Epoch 1/31\n",
      "2223/2223 [==============================] - 15s 6ms/step - loss: 2.3071 - accuracy: 0.1086 - val_loss: 2.2966 - val_accuracy: 0.1934\n",
      "Epoch 2/31\n",
      "2223/2223 [==============================] - 14s 6ms/step - loss: 2.2978 - accuracy: 0.1158 - val_loss: 2.2913 - val_accuracy: 0.1192\n",
      "Epoch 3/31\n",
      "2223/2223 [==============================] - 14s 6ms/step - loss: 2.2913 - accuracy: 0.1305 - val_loss: 2.2802 - val_accuracy: 0.1412\n",
      "Epoch 4/31\n",
      "2223/2223 [==============================] - 14s 6ms/step - loss: 2.2749 - accuracy: 0.1602 - val_loss: 2.2504 - val_accuracy: 0.2415\n",
      "Epoch 5/31\n",
      "2223/2223 [==============================] - 14s 6ms/step - loss: 2.2068 - accuracy: 0.2254 - val_loss: 2.0809 - val_accuracy: 0.3554\n",
      "Epoch 6/31\n",
      "2223/2223 [==============================] - 13s 6ms/step - loss: 1.9448 - accuracy: 0.2936 - val_loss: 1.7640 - val_accuracy: 0.4343\n",
      "Epoch 7/31\n",
      "2223/2223 [==============================] - 13s 6ms/step - loss: 1.7394 - accuracy: 0.3485 - val_loss: 1.6001 - val_accuracy: 0.4439\n",
      "Epoch 8/31\n",
      "2223/2223 [==============================] - 15s 7ms/step - loss: 1.5778 - accuracy: 0.4123 - val_loss: 1.4001 - val_accuracy: 0.4844\n",
      "Epoch 9/31\n",
      "2223/2223 [==============================] - 15s 7ms/step - loss: 1.4055 - accuracy: 0.4702 - val_loss: 1.2312 - val_accuracy: 0.5236\n",
      "Epoch 10/31\n",
      "2223/2223 [==============================] - 15s 7ms/step - loss: 1.2619 - accuracy: 0.5298 - val_loss: 1.0924 - val_accuracy: 0.6451\n",
      "Epoch 11/31\n",
      "2223/2223 [==============================] - 15s 7ms/step - loss: 1.1294 - accuracy: 0.5964 - val_loss: 0.9506 - val_accuracy: 0.6827\n",
      "Epoch 12/31\n",
      "2223/2223 [==============================] - 15s 7ms/step - loss: 1.0133 - accuracy: 0.6485 - val_loss: 0.8419 - val_accuracy: 0.7233\n",
      "Epoch 13/31\n",
      "2223/2223 [==============================] - 16s 7ms/step - loss: 0.9299 - accuracy: 0.6806 - val_loss: 0.7690 - val_accuracy: 0.7654\n",
      "Epoch 14/31\n",
      "2223/2223 [==============================] - 15s 7ms/step - loss: 0.8797 - accuracy: 0.7007 - val_loss: 0.7179 - val_accuracy: 0.7808\n",
      "Epoch 15/31\n",
      "2223/2223 [==============================] - 14s 6ms/step - loss: 0.8347 - accuracy: 0.7263 - val_loss: 0.6712 - val_accuracy: 0.8053\n",
      "Epoch 16/31\n",
      "2223/2223 [==============================] - 14s 6ms/step - loss: 0.7916 - accuracy: 0.7460 - val_loss: 0.6274 - val_accuracy: 0.8230\n",
      "Epoch 17/31\n",
      "2223/2223 [==============================] - 14s 6ms/step - loss: 0.7500 - accuracy: 0.7634 - val_loss: 0.5831 - val_accuracy: 0.8407\n",
      "Epoch 18/31\n",
      "2223/2223 [==============================] - 14s 6ms/step - loss: 0.7008 - accuracy: 0.7850 - val_loss: 0.5405 - val_accuracy: 0.8534\n",
      "Epoch 19/31\n",
      "2223/2223 [==============================] - 14s 6ms/step - loss: 0.6602 - accuracy: 0.8005 - val_loss: 0.4988 - val_accuracy: 0.8683\n",
      "Epoch 20/31\n",
      "2223/2223 [==============================] - 15s 7ms/step - loss: 0.6225 - accuracy: 0.8136 - val_loss: 0.4646 - val_accuracy: 0.8760\n",
      "Epoch 21/31\n",
      "2223/2223 [==============================] - 15s 7ms/step - loss: 0.5875 - accuracy: 0.8250 - val_loss: 0.4387 - val_accuracy: 0.8803\n",
      "Epoch 22/31\n",
      "2223/2223 [==============================] - 14s 6ms/step - loss: 0.5653 - accuracy: 0.8319 - val_loss: 0.4171 - val_accuracy: 0.8865\n",
      "Epoch 23/31\n",
      "2223/2223 [==============================] - 15s 7ms/step - loss: 0.5428 - accuracy: 0.8390 - val_loss: 0.3975 - val_accuracy: 0.8900\n",
      "Epoch 24/31\n",
      "2223/2223 [==============================] - 15s 7ms/step - loss: 0.5226 - accuracy: 0.8436 - val_loss: 0.3826 - val_accuracy: 0.8943\n",
      "Epoch 25/31\n",
      "2223/2223 [==============================] - 10s 5ms/step - loss: 0.5048 - accuracy: 0.8503 - val_loss: 0.3677 - val_accuracy: 0.8980\n",
      "Epoch 26/31\n",
      "2223/2223 [==============================] - 9s 4ms/step - loss: 0.4911 - accuracy: 0.8550 - val_loss: 0.3528 - val_accuracy: 0.9017\n",
      "Epoch 27/31\n",
      "2223/2223 [==============================] - 9s 4ms/step - loss: 0.4747 - accuracy: 0.8594 - val_loss: 0.3404 - val_accuracy: 0.9040\n",
      "Epoch 28/31\n",
      "2223/2223 [==============================] - 9s 4ms/step - loss: 0.4631 - accuracy: 0.8640 - val_loss: 0.3295 - val_accuracy: 0.9074\n",
      "Epoch 29/31\n",
      "2223/2223 [==============================] - 9s 4ms/step - loss: 0.4457 - accuracy: 0.8678 - val_loss: 0.3162 - val_accuracy: 0.9109\n",
      "Epoch 30/31\n",
      "2223/2223 [==============================] - 10s 4ms/step - loss: 0.4333 - accuracy: 0.8722 - val_loss: 0.3085 - val_accuracy: 0.9134\n",
      "Epoch 31/31\n",
      "2223/2223 [==============================] - 10s 4ms/step - loss: 0.4197 - accuracy: 0.8769 - val_loss: 0.2980 - val_accuracy: 0.9170\n"
     ]
    },
    {
     "data": {
      "text/plain": [
       "<keras.callbacks.History at 0x1620f5a5520>"
      ]
     },
     "execution_count": 87,
     "metadata": {},
     "output_type": "execute_result"
    }
   ],
   "source": [
    "modelclass.fit(Trainx,Trainy,validation_data=(TestX,TestY), epochs=31, batch_size=27)"
   ]
  },
  {
   "cell_type": "code",
   "execution_count": 88,
   "id": "98034df2",
   "metadata": {},
   "outputs": [
    {
     "data": {
      "text/plain": [
       "<keras.callbacks.History at 0x1620f328820>"
      ]
     },
     "execution_count": 88,
     "metadata": {},
     "output_type": "execute_result"
    }
   ],
   "source": [
    "tf.keras.callbacks.History()"
   ]
  },
  {
   "cell_type": "markdown",
   "id": "8c071a4c",
   "metadata": {},
   "source": [
    "##ADAGRAD and adam usr and check\n",
    " "
   ]
  },
  {
   "cell_type": "code",
   "execution_count": 89,
   "id": "91bb5e24",
   "metadata": {},
   "outputs": [
    {
     "name": "stdout",
     "output_type": "stream",
     "text": [
      "1/1 [==============================] - 0s 140ms/step\n",
      "THE PREDICTED NO IS: 7\n"
     ]
    }
   ],
   "source": [
    "import numpy as np\n",
    "prediction=modelclass.predict(TestX[0:1])\n",
    "predicted_num=np.argmax(prediction)\n",
    "print(\"THE PREDICTED NO IS:\",predicted_num)"
   ]
  },
  {
   "cell_type": "code",
   "execution_count": null,
   "id": "c7061a03",
   "metadata": {},
   "outputs": [],
   "source": []
  }
 ],
 "metadata": {
  "kernelspec": {
   "display_name": "Python 3 (ipykernel)",
   "language": "python",
   "name": "python3"
  },
  "language_info": {
   "codemirror_mode": {
    "name": "ipython",
    "version": 3
   },
   "file_extension": ".py",
   "mimetype": "text/x-python",
   "name": "python",
   "nbconvert_exporter": "python",
   "pygments_lexer": "ipython3",
   "version": "3.9.7"
  }
 },
 "nbformat": 4,
 "nbformat_minor": 5
}
