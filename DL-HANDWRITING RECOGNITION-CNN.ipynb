{
 "cells": [
  {
   "cell_type": "markdown",
   "id": "1b310299",
   "metadata": {},
   "source": [
    "SO PROMBLEM WITH DL AND ML IS \n",
    "1)EXCESS NO OF CAL \n",
    "2)LOSS OF SPATICAL INFO -->LOCATION WALA \n",
    "HENCE WE USE CNN\n",
    "A FILTER BASED THING AND NOT FULLY CONNECTED UNLIKE DENSE LAYER /DEEP LEARNING\n",
    "also no of nurons we decide in ML and in cnn its auto based on flter and image size"
   ]
  },
  {
   "cell_type": "markdown",
   "id": "436e303f",
   "metadata": {},
   "source": [
    "# CNN"
   ]
  },
  {
   "cell_type": "code",
   "execution_count": 4,
   "id": "32a7b4d9",
   "metadata": {},
   "outputs": [],
   "source": [
    "import tensorflow as tf \n",
    "tf.compat.v1.set_random_seed(42)"
   ]
  },
  {
   "cell_type": "code",
   "execution_count": 5,
   "id": "e9e20036",
   "metadata": {},
   "outputs": [],
   "source": [
    "(Trainx,Trainy),(TestX,TestY)=tf.keras.datasets.mnist.load_data()"
   ]
  },
  {
   "cell_type": "code",
   "execution_count": 6,
   "id": "7d95d9c2",
   "metadata": {},
   "outputs": [],
   "source": [
    "Trainy=tf.keras.utils.to_categorical(Trainy,num_classes=10)\n",
    "TestY=tf.keras.utils.to_categorical(TestY,num_classes=10)"
   ]
  },
  {
   "cell_type": "code",
   "execution_count": 7,
   "id": "76b04ab2",
   "metadata": {},
   "outputs": [],
   "source": [
    "from keras.models import Sequential\n",
    "modelclass=tf.keras.models.Sequential()"
   ]
  },
  {
   "cell_type": "code",
   "execution_count": 9,
   "id": "dde17be3",
   "metadata": {},
   "outputs": [],
   "source": [
    "modelclass.add(tf.keras.layers.Reshape((28,28,1),input_shape=(28,28,)))\n",
    "modelclass.add(tf.keras.layers.BatchNormalization())"
   ]
  },
  {
   "cell_type": "code",
   "execution_count": 10,
   "id": "6c03a55c",
   "metadata": {},
   "outputs": [],
   "source": [
    "modelclass.add(tf.keras.layers.Conv2D(32,kernel_size=(3,3),activation='relu'))"
   ]
  },
  {
   "cell_type": "code",
   "execution_count": 11,
   "id": "251f65a8",
   "metadata": {},
   "outputs": [],
   "source": [
    "modelclass.add(tf.keras.layers.Conv2D(64,kernel_size=(3,3),activation='relu'))"
   ]
  },
  {
   "cell_type": "code",
   "execution_count": 12,
   "id": "55946fad",
   "metadata": {},
   "outputs": [],
   "source": [
    "modelclass.add(tf.keras.layers.MaxPool2D(pool_size=(2,2)))"
   ]
  },
  {
   "cell_type": "code",
   "execution_count": 13,
   "id": "bbbb222c",
   "metadata": {},
   "outputs": [],
   "source": [
    "modelclass.add(tf.keras.layers.Flatten())"
   ]
  },
  {
   "cell_type": "code",
   "execution_count": 23,
   "id": "4ed11ce3",
   "metadata": {},
   "outputs": [],
   "source": []
  },
  {
   "cell_type": "code",
   "execution_count": 14,
   "id": "c5cd4724",
   "metadata": {},
   "outputs": [],
   "source": [
    "modelclass.add(tf.keras.layers.Dense(128,activation='relu'))"
   ]
  },
  {
   "cell_type": "code",
   "execution_count": 15,
   "id": "874bf7d6",
   "metadata": {},
   "outputs": [],
   "source": [
    "modelclass.add(tf.keras.layers.Dropout(0.25))"
   ]
  },
  {
   "cell_type": "code",
   "execution_count": 16,
   "id": "113ca147",
   "metadata": {},
   "outputs": [],
   "source": [
    "modelclass.add(tf.keras.layers.Dense(10,activation='softmax'))"
   ]
  },
  {
   "cell_type": "code",
   "execution_count": 17,
   "id": "c889a3b8",
   "metadata": {},
   "outputs": [],
   "source": [
    "tensorboard=tf.keras.callbacks.TensorBoard(\n",
    "    log_dir='logs',\n",
    "    histogram_freq=0,\n",
    "    write_graph=True,\n",
    "    write_images=True,\n",
    "    write_steps_per_second=True,\n",
    "    update_freq='epoch',\n",
    "    profile_batch=0,\n",
    "    embeddings_freq=0,\n",
    "    embeddings_metadata=None,\n",
    "  \n",
    ")"
   ]
  },
  {
   "cell_type": "code",
   "execution_count": 18,
   "id": "d3e61d8a",
   "metadata": {},
   "outputs": [],
   "source": [
    "sgd_optimizer=tf.keras.optimizers.SGD(learning_rate=0.1,decay=0.002,momentum=0.91)"
   ]
  },
  {
   "cell_type": "code",
   "execution_count": 19,
   "id": "0367dd03",
   "metadata": {},
   "outputs": [],
   "source": [
    "modelclass.compile(optimizer='adam',loss='categorical_crossentropy',metrics=['accuracy'])"
   ]
  },
  {
   "cell_type": "code",
   "execution_count": 20,
   "id": "70b4b202",
   "metadata": {},
   "outputs": [
    {
     "name": "stdout",
     "output_type": "stream",
     "text": [
      "Model: \"sequential\"\n",
      "_________________________________________________________________\n",
      " Layer (type)                Output Shape              Param #   \n",
      "=================================================================\n",
      " reshape (Reshape)           (None, 784)               0         \n",
      "                                                                 \n",
      " batch_normalization (BatchN  (None, 784)              3136      \n",
      " ormalization)                                                   \n",
      "                                                                 \n",
      " reshape_1 (Reshape)         (None, 28, 28, 1)         0         \n",
      "                                                                 \n",
      " batch_normalization_1 (Batc  (None, 28, 28, 1)        4         \n",
      " hNormalization)                                                 \n",
      "                                                                 \n",
      " conv2d (Conv2D)             (None, 26, 26, 32)        320       \n",
      "                                                                 \n",
      " conv2d_1 (Conv2D)           (None, 24, 24, 64)        18496     \n",
      "                                                                 \n",
      " max_pooling2d (MaxPooling2D  (None, 12, 12, 64)       0         \n",
      " )                                                               \n",
      "                                                                 \n",
      " flatten (Flatten)           (None, 9216)              0         \n",
      "                                                                 \n",
      " dense (Dense)               (None, 128)               1179776   \n",
      "                                                                 \n",
      " dropout (Dropout)           (None, 128)               0         \n",
      "                                                                 \n",
      " dense_1 (Dense)             (None, 10)                1290      \n",
      "                                                                 \n",
      "=================================================================\n",
      "Total params: 1,203,022\n",
      "Trainable params: 1,201,452\n",
      "Non-trainable params: 1,570\n",
      "_________________________________________________________________\n"
     ]
    }
   ],
   "source": [
    "modelclass.summary()"
   ]
  },
  {
   "cell_type": "markdown",
   "id": "6eb16d39",
   "metadata": {},
   "source": [
    "# copy paste on google colab gpu for faster eta "
   ]
  },
  {
   "cell_type": "code",
   "execution_count": 22,
   "id": "84768fcf",
   "metadata": {},
   "outputs": [
    {
     "name": "stdout",
     "output_type": "stream",
     "text": [
      "Epoch 1/3\n",
      "2223/2223 [==============================] - 138s 62ms/step - loss: 0.0886 - accuracy: 0.9738 - val_loss: 0.0816 - val_accuracy: 0.9822\n",
      "Epoch 2/3\n",
      "2223/2223 [==============================] - 129s 58ms/step - loss: 0.0506 - accuracy: 0.9842 - val_loss: 0.0796 - val_accuracy: 0.9863\n",
      "Epoch 3/3\n",
      "2223/2223 [==============================] - 130s 59ms/step - loss: 0.0355 - accuracy: 0.9888 - val_loss: 0.1251 - val_accuracy: 0.9880\n"
     ]
    },
    {
     "data": {
      "text/plain": [
       "<keras.callbacks.History at 0x2150c433eb0>"
      ]
     },
     "execution_count": 22,
     "metadata": {},
     "output_type": "execute_result"
    }
   ],
   "source": [
    "modelclass.fit(Trainx,Trainy,validation_data=(TestX,TestY), epochs=3, batch_size=27)"
   ]
  },
  {
   "cell_type": "code",
   "execution_count": 23,
   "id": "7336a8d2",
   "metadata": {},
   "outputs": [
    {
     "data": {
      "text/plain": [
       "<keras.callbacks.History at 0x2150c4725b0>"
      ]
     },
     "execution_count": 23,
     "metadata": {},
     "output_type": "execute_result"
    }
   ],
   "source": [
    "tf.keras.callbacks.History()"
   ]
  },
  {
   "cell_type": "markdown",
   "id": "4eb12e9e",
   "metadata": {},
   "source": [
    "##ADAGRAD and adam usr and check\n",
    " "
   ]
  },
  {
   "cell_type": "code",
   "execution_count": 24,
   "id": "45828d4d",
   "metadata": {},
   "outputs": [
    {
     "name": "stdout",
     "output_type": "stream",
     "text": [
      "1/1 [==============================] - 0s 127ms/step\n",
      "THE PREDICTED NO IS: 7\n"
     ]
    }
   ],
   "source": [
    "import numpy as np\n",
    "prediction=modelclass.predict(TestX[0:1])\n",
    "predicted_num=np.argmax(prediction)\n",
    "print(\"THE PREDICTED NO IS:\",predicted_num)"
   ]
  },
  {
   "cell_type": "markdown",
   "id": "f66df15d",
   "metadata": {},
   "source": [
    "NOTE:-LP :86% \n",
    "LPWITH BATCH SIZE:-90%\n",
    "DL:-94%\n",
    "DL WITH GOOD OPTIMZER:-96%\n",
    "CNN->99%"
   ]
  },
  {
   "cell_type": "markdown",
   "id": "8380d423",
   "metadata": {},
   "source": [
    "##compared to sgd and sigmoid time taken and accuracy is great"
   ]
  }
 ],
 "metadata": {
  "kernelspec": {
   "display_name": "Python 3 (ipykernel)",
   "language": "python",
   "name": "python3"
  },
  "language_info": {
   "codemirror_mode": {
    "name": "ipython",
    "version": 3
   },
   "file_extension": ".py",
   "mimetype": "text/x-python",
   "name": "python",
   "nbconvert_exporter": "python",
   "pygments_lexer": "ipython3",
   "version": "3.9.7"
  }
 },
 "nbformat": 4,
 "nbformat_minor": 5
}
