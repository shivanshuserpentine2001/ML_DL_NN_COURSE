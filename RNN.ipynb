{
 "cells": [
  {
   "cell_type": "code",
   "execution_count": 6,
   "id": "db23a249",
   "metadata": {},
   "outputs": [],
   "source": [
    "import numpy as np\n",
    "import pandas as pd\n",
    "import matplotlib.pyplot as plt\n",
    "%matplotlib inline\n"
   ]
  },
  {
   "cell_type": "code",
   "execution_count": 79,
   "id": "af313cfb",
   "metadata": {},
   "outputs": [],
   "source": [
    "df=pd.read_csv('labeledTrainData.tsv.zip',header=0,delimiter='\\t',quoting=3)"
   ]
  },
  {
   "cell_type": "code",
   "execution_count": 80,
   "id": "1e95449c",
   "metadata": {},
   "outputs": [
    {
     "name": "stdout",
     "output_type": "stream",
     "text": [
      "NO OF EXAMPLES (25000, 3)\n"
     ]
    },
    {
     "data": {
      "text/html": [
       "<div>\n",
       "<style scoped>\n",
       "    .dataframe tbody tr th:only-of-type {\n",
       "        vertical-align: middle;\n",
       "    }\n",
       "\n",
       "    .dataframe tbody tr th {\n",
       "        vertical-align: top;\n",
       "    }\n",
       "\n",
       "    .dataframe thead th {\n",
       "        text-align: right;\n",
       "    }\n",
       "</style>\n",
       "<table border=\"1\" class=\"dataframe\">\n",
       "  <thead>\n",
       "    <tr style=\"text-align: right;\">\n",
       "      <th></th>\n",
       "      <th>id</th>\n",
       "      <th>sentiment</th>\n",
       "      <th>review</th>\n",
       "    </tr>\n",
       "  </thead>\n",
       "  <tbody>\n",
       "    <tr>\n",
       "      <th>0</th>\n",
       "      <td>\"5814_8\"</td>\n",
       "      <td>1</td>\n",
       "      <td>\"With all this stuff going down at the moment ...</td>\n",
       "    </tr>\n",
       "    <tr>\n",
       "      <th>1</th>\n",
       "      <td>\"2381_9\"</td>\n",
       "      <td>1</td>\n",
       "      <td>\"\\\"The Classic War of the Worlds\\\" by Timothy ...</td>\n",
       "    </tr>\n",
       "    <tr>\n",
       "      <th>2</th>\n",
       "      <td>\"7759_3\"</td>\n",
       "      <td>0</td>\n",
       "      <td>\"The film starts with a manager (Nicholas Bell...</td>\n",
       "    </tr>\n",
       "    <tr>\n",
       "      <th>3</th>\n",
       "      <td>\"3630_4\"</td>\n",
       "      <td>0</td>\n",
       "      <td>\"It must be assumed that those who praised thi...</td>\n",
       "    </tr>\n",
       "    <tr>\n",
       "      <th>4</th>\n",
       "      <td>\"9495_8\"</td>\n",
       "      <td>1</td>\n",
       "      <td>\"Superbly trashy and wondrously unpretentious ...</td>\n",
       "    </tr>\n",
       "  </tbody>\n",
       "</table>\n",
       "</div>"
      ],
      "text/plain": [
       "         id  sentiment                                             review\n",
       "0  \"5814_8\"          1  \"With all this stuff going down at the moment ...\n",
       "1  \"2381_9\"          1  \"\\\"The Classic War of the Worlds\\\" by Timothy ...\n",
       "2  \"7759_3\"          0  \"The film starts with a manager (Nicholas Bell...\n",
       "3  \"3630_4\"          0  \"It must be assumed that those who praised thi...\n",
       "4  \"9495_8\"          1  \"Superbly trashy and wondrously unpretentious ..."
      ]
     },
     "execution_count": 80,
     "metadata": {},
     "output_type": "execute_result"
    }
   ],
   "source": [
    "print(\"NO OF EXAMPLES\",df.shape)\n",
    "df.head()"
   ]
  },
  {
   "cell_type": "markdown",
   "id": "fb901380",
   "metadata": {},
   "source": [
    "instead of using to_list() we can directly aslo do df[]"
   ]
  },
  {
   "cell_type": "code",
   "execution_count": 81,
   "id": "787dac7a",
   "metadata": {},
   "outputs": [],
   "source": [
    "reviews=df['review'].to_list()\n",
    "sentiment=df['sentiment'].to_list()"
   ]
  },
  {
   "cell_type": "code",
   "execution_count": 82,
   "id": "7c3c31d5",
   "metadata": {},
   "outputs": [],
   "source": [
    "import tensorflow as tf"
   ]
  },
  {
   "cell_type": "code",
   "execution_count": 136,
   "id": "71b0783c",
   "metadata": {},
   "outputs": [],
   "source": [
    "tokenizer=tf.keras.preprocessing.text.Tokenizer(num_words=11664)"
   ]
  },
  {
   "cell_type": "code",
   "execution_count": 137,
   "id": "9f06c33d",
   "metadata": {},
   "outputs": [],
   "source": [
    "tokenizer.fit_on_texts(reviews)"
   ]
  },
  {
   "cell_type": "code",
   "execution_count": 138,
   "id": "6abce429",
   "metadata": {},
   "outputs": [
    {
     "data": {
      "text/plain": [
       "88582"
      ]
     },
     "execution_count": 138,
     "metadata": {},
     "output_type": "execute_result"
    }
   ],
   "source": [
    "len(tokenizer.word_index)"
   ]
  },
  {
   "cell_type": "code",
   "execution_count": 139,
   "id": "945304b1",
   "metadata": {},
   "outputs": [],
   "source": [
    "feautures=tokenizer.texts_to_matrix(reviews,mode='tfidf')"
   ]
  },
  {
   "cell_type": "code",
   "execution_count": 140,
   "id": "8b5ab63d",
   "metadata": {},
   "outputs": [
    {
     "data": {
      "text/plain": [
       "(25000, 11664)"
      ]
     },
     "execution_count": 140,
     "metadata": {},
     "output_type": "execute_result"
    }
   ],
   "source": [
    "feautures.shape"
   ]
  },
  {
   "cell_type": "code",
   "execution_count": 141,
   "id": "05b02c00",
   "metadata": {},
   "outputs": [],
   "source": [
    "from keras.models import Sequential\n",
    "modelclass=tf.keras.models.Sequential()"
   ]
  },
  {
   "cell_type": "code",
   "execution_count": 142,
   "id": "c9dcffff",
   "metadata": {},
   "outputs": [],
   "source": [
    "modelclass.add(tf.keras.layers.BatchNormalization())\n"
   ]
  },
  {
   "cell_type": "code",
   "execution_count": 143,
   "id": "d0f73c38",
   "metadata": {},
   "outputs": [],
   "source": [
    "modelclass.add(tf.keras.layers.Dense(200,activation='relu'))"
   ]
  },
  {
   "cell_type": "code",
   "execution_count": 144,
   "id": "bb51e729",
   "metadata": {},
   "outputs": [],
   "source": [
    "modelclass.add(tf.keras.layers.Dense(100,activation='relu'))"
   ]
  },
  {
   "cell_type": "code",
   "execution_count": 145,
   "id": "f947f131",
   "metadata": {},
   "outputs": [],
   "source": [
    "modelclass.add(tf.keras.layers.Dense(60,activation='relu'))"
   ]
  },
  {
   "cell_type": "code",
   "execution_count": null,
   "id": "969103f4",
   "metadata": {},
   "outputs": [],
   "source": []
  },
  {
   "cell_type": "code",
   "execution_count": 146,
   "id": "f60f33b6",
   "metadata": {},
   "outputs": [],
   "source": [
    "modelclass.add(tf.keras.layers.Dense(30,activation='relu'))"
   ]
  },
  {
   "cell_type": "code",
   "execution_count": 147,
   "id": "bb73305a",
   "metadata": {},
   "outputs": [],
   "source": [
    "modelclass.add(tf.keras.layers.Dense(1,activation='softmax'))"
   ]
  },
  {
   "cell_type": "code",
   "execution_count": 148,
   "id": "824e96fb",
   "metadata": {},
   "outputs": [],
   "source": [
    "modelclass.compile(optimizer='adam',loss='binary_crossentropy',metrics=['accuracy'])"
   ]
  },
  {
   "cell_type": "code",
   "execution_count": 149,
   "id": "551c7e58",
   "metadata": {},
   "outputs": [
    {
     "data": {
      "text/plain": [
       "array([[0.        , 2.75042893, 2.34574918, ..., 0.        , 0.        ,\n",
       "        0.        ],\n",
       "       [0.        , 2.30286883, 1.49059538, ..., 0.        , 0.        ,\n",
       "        0.        ],\n",
       "       [0.        , 2.91332688, 2.96757422, ..., 0.        , 0.        ,\n",
       "        0.        ],\n",
       "       ...,\n",
       "       [0.        , 2.05416196, 0.71027668, ..., 0.        , 0.        ,\n",
       "        0.        ],\n",
       "       [0.        , 2.36932793, 1.69492924, ..., 0.        , 0.        ,\n",
       "        0.        ],\n",
       "       [0.        , 2.14727243, 2.58473757, ..., 0.        , 0.        ,\n",
       "        0.        ]])"
      ]
     },
     "execution_count": 149,
     "metadata": {},
     "output_type": "execute_result"
    }
   ],
   "source": [
    "feautures"
   ]
  },
  {
   "cell_type": "code",
   "execution_count": 151,
   "id": "d0ffbc3e",
   "metadata": {},
   "outputs": [
    {
     "name": "stdout",
     "output_type": "stream",
     "text": [
      "Epoch 1/3\n",
      "741/741 [==============================] - 16s 21ms/step - loss: 0.0647 - accuracy: 0.4986 - val_loss: 1.6351 - val_accuracy: 0.5056\n",
      "Epoch 2/3\n",
      "741/741 [==============================] - 16s 22ms/step - loss: 0.0451 - accuracy: 0.4986 - val_loss: 1.9300 - val_accuracy: 0.5056\n",
      "Epoch 3/3\n",
      "741/741 [==============================] - 18s 25ms/step - loss: 0.0330 - accuracy: 0.4986 - val_loss: 2.1774 - val_accuracy: 0.5056\n"
     ]
    },
    {
     "data": {
      "text/plain": [
       "<keras.callbacks.History at 0x1e06c418c40>"
      ]
     },
     "execution_count": 151,
     "metadata": {},
     "output_type": "execute_result"
    }
   ],
   "source": [
    "\n",
    "modelclass.fit(feautures,sentiment,validation_split=0.2,epochs=3, batch_size=27)"
   ]
  },
  {
   "cell_type": "code",
   "execution_count": null,
   "id": "64e769b3",
   "metadata": {},
   "outputs": [],
   "source": []
  },
  {
   "cell_type": "code",
   "execution_count": null,
   "id": "216de9f4",
   "metadata": {},
   "outputs": [],
   "source": []
  },
  {
   "cell_type": "code",
   "execution_count": null,
   "id": "3d1b75ce",
   "metadata": {},
   "outputs": [],
   "source": []
  }
 ],
 "metadata": {
  "kernelspec": {
   "display_name": "Python 3 (ipykernel)",
   "language": "python",
   "name": "python3"
  },
  "language_info": {
   "codemirror_mode": {
    "name": "ipython",
    "version": 3
   },
   "file_extension": ".py",
   "mimetype": "text/x-python",
   "name": "python",
   "nbconvert_exporter": "python",
   "pygments_lexer": "ipython3",
   "version": "3.9.7"
  }
 },
 "nbformat": 4,
 "nbformat_minor": 5
}
