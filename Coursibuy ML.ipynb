{
 "cells": [
  {
   "cell_type": "code",
   "execution_count": 1,
   "id": "60149755",
   "metadata": {},
   "outputs": [
    {
     "name": "stdout",
     "output_type": "stream",
     "text": [
      "WARNING:tensorflow:From C:\\ANACONDA\\lib\\site-packages\\tensorflow\\python\\compat\\v2_compat.py:107: disable_resource_variables (from tensorflow.python.ops.variable_scope) is deprecated and will be removed in a future version.\n",
      "Instructions for updating:\n",
      "non-resource variables are not supported in the long term\n"
     ]
    }
   ],
   "source": [
    "import tensorflow.compat.v1 as tf\n",
    "tf.disable_v2_behavior()  \n",
    "tf.reset_default_graph()\n",
    "import tensorflow as tf\n",
    "(features,actual_prices),_=tf.keras.datasets.boston_housing.load_data(test_split=0)"
   ]
  },
  {
   "cell_type": "code",
   "execution_count": 2,
   "id": "c8113787",
   "metadata": {},
   "outputs": [],
   "source": [
    "x=tf.compat.v1.placeholder(shape=[None,13],dtype=tf.float32,name='x-input')"
   ]
  },
  {
   "cell_type": "code",
   "execution_count": 3,
   "id": "3f079e25",
   "metadata": {},
   "outputs": [],
   "source": [
    "y_=tf.compat.v1.placeholder(shape=[None],dtype=tf.float32,name='y-actual')"
   ]
  },
  {
   "cell_type": "code",
   "execution_count": 4,
   "id": "164ff209",
   "metadata": {},
   "outputs": [
    {
     "name": "stdout",
     "output_type": "stream",
     "text": [
      "Tensor(\"x-input:0\", shape=(?, 13), dtype=float32) Tensor(\"y-actual:0\", shape=(?,), dtype=float32)\n",
      "WARNING:tensorflow:From C:\\ANACONDA\\lib\\site-packages\\tensorflow\\python\\util\\dispatch.py:1082: calling l2_normalize (from tensorflow.python.ops.nn_impl) with dim is deprecated and will be removed in a future version.\n",
      "Instructions for updating:\n",
      "dim is deprecated, use axis instead\n"
     ]
    }
   ],
   "source": [
    "print(x,y_)\n",
    "x_n=tf.math.l2_normalize(\n",
    "    x, axis=None, epsilon=1e-12, name=None, dim=None\n",
    ")"
   ]
  },
  {
   "cell_type": "code",
   "execution_count": 5,
   "id": "484f9fe4",
   "metadata": {},
   "outputs": [
    {
     "name": "stdout",
     "output_type": "stream",
     "text": [
      "<tf.Variable 'Weights:0' shape=(13, 1) dtype=float32_ref>\n"
     ]
    }
   ],
   "source": [
    "W=tf.compat.v1.Variable(tf.zeros(shape=[13,1]),name='Weights')\n",
    "print(W)\n",
    "b=tf.compat.v1.Variable(tf.zeros(shape=[1]),name='Bias')"
   ]
  },
  {
   "cell_type": "code",
   "execution_count": 6,
   "id": "7e4b78a7",
   "metadata": {},
   "outputs": [],
   "source": [
    "y=tf.add(tf.matmul(x_n,W),b,'OUTPUT')"
   ]
  },
  {
   "cell_type": "code",
   "execution_count": 7,
   "id": "39adce6c",
   "metadata": {},
   "outputs": [],
   "source": [
    "loss=tf.reduce_mean(tf.square(y-y_),name='LOSS')"
   ]
  },
  {
   "cell_type": "code",
   "execution_count": 8,
   "id": "0d462ce2",
   "metadata": {},
   "outputs": [],
   "source": [
    "train_op=tf.compat.v1.train.GradientDescentOptimizer(0.11).minimize(loss)\n",
    "#wi= wiold-+ nu*wi"
   ]
  },
  {
   "cell_type": "code",
   "execution_count": 9,
   "id": "1e724c6a",
   "metadata": {},
   "outputs": [],
   "source": [
    "sess=tf.compat.v1.Session()"
   ]
  },
  {
   "cell_type": "code",
   "execution_count": 10,
   "id": "d98d36a2",
   "metadata": {},
   "outputs": [],
   "source": [
    "sess.run(tf.compat.v1.global_variables_initializer())"
   ]
  },
  {
   "cell_type": "code",
   "execution_count": 11,
   "id": "4dfa752b",
   "metadata": {},
   "outputs": [],
   "source": [
    "iterations=1188\n",
    "\n"
   ]
  },
  {
   "cell_type": "code",
   "execution_count": 12,
   "id": "49e58e0f",
   "metadata": {},
   "outputs": [
    {
     "name": "stdout",
     "output_type": "stream",
     "text": [
      "Training loss at step: 0 is 592.1469\n",
      "Training loss at step: 100 is 84.41963\n",
      "Training loss at step: 200 is 84.41963\n",
      "Training loss at step: 300 is 84.41963\n",
      "Training loss at step: 400 is 84.41963\n",
      "Training loss at step: 500 is 84.419624\n",
      "Training loss at step: 600 is 84.419624\n",
      "Training loss at step: 700 is 84.419624\n",
      "Training loss at step: 800 is 84.419624\n",
      "Training loss at step: 900 is 84.41961\n",
      "Training loss at step: 1000 is 84.419624\n",
      "Training loss at step: 1100 is 84.41961\n"
     ]
    }
   ],
   "source": [
    " \n",
    "for i in range(iterations):\n",
    "    _,train_loss=sess.run([train_op,loss],feed_dict={x:features,y_:actual_prices})\n",
    "    if i%100==0:\n",
    "        print('Training loss at step:',i,'is',train_loss)"
   ]
  },
  {
   "cell_type": "code",
   "execution_count": 13,
   "id": "8242efc3",
   "metadata": {},
   "outputs": [
    {
     "data": {
      "text/plain": [
       "array([[  1.23247,   0.     ,   8.14   ,   0.     ,   0.538  ,   6.142  ,\n",
       "         91.7    ,   3.9769 ,   4.     , 307.     ,  21.     , 396.9    ,\n",
       "         18.72   ]])"
      ]
     },
     "execution_count": 13,
     "metadata": {},
     "output_type": "execute_result"
    }
   ],
   "source": [
    "features[0:1]\n"
   ]
  },
  {
   "cell_type": "code",
   "execution_count": 14,
   "id": "8b062ca9",
   "metadata": {},
   "outputs": [
    {
     "name": "stdout",
     "output_type": "stream",
     "text": [
      "WARNING:tensorflow:From C:\\ANACONDA\\lib\\site-packages\\keras\\layers\\normalization\\batch_normalization.py:514: _colocate_with (from tensorflow.python.framework.ops) is deprecated and will be removed in a future version.\n",
      "Instructions for updating:\n",
      "Colocations handled automatically by placer.\n",
      "Train on 506 samples\n",
      "Epoch 1/108\n",
      "506/506 [==============================] - 1s 2ms/sample - loss: 169.9219\n",
      "Epoch 2/108\n",
      "506/506 [==============================] - 0s 152us/sample - loss: 41.0943\n",
      "Epoch 3/108\n",
      "506/506 [==============================] - 0s 113us/sample - loss: 40.9073\n",
      "Epoch 4/108\n",
      "506/506 [==============================] - 0s 103us/sample - loss: 32.2826\n",
      "Epoch 5/108\n",
      "506/506 [==============================] - 0s 91us/sample - loss: 35.5279\n",
      "Epoch 6/108\n",
      "506/506 [==============================] - 0s 91us/sample - loss: 32.1548\n",
      "Epoch 7/108\n",
      "506/506 [==============================] - 0s 55us/sample - loss: 30.1154\n",
      "Epoch 8/108\n",
      "506/506 [==============================] - 0s 57us/sample - loss: 32.3437\n",
      "Epoch 9/108\n",
      "506/506 [==============================] - 0s 59us/sample - loss: 28.4485\n",
      "Epoch 10/108\n",
      "506/506 [==============================] - 0s 49us/sample - loss: 28.5900\n",
      "Epoch 11/108\n",
      "506/506 [==============================] - 0s 45us/sample - loss: 30.4668\n",
      "Epoch 12/108\n",
      "506/506 [==============================] - 0s 47us/sample - loss: 28.4068\n",
      "Epoch 13/108\n",
      "506/506 [==============================] - 0s 45us/sample - loss: 26.5372\n",
      "Epoch 14/108\n",
      "506/506 [==============================] - 0s 45us/sample - loss: 28.8570\n",
      "Epoch 15/108\n",
      "506/506 [==============================] - 0s 47us/sample - loss: 28.0394\n",
      "Epoch 16/108\n",
      "506/506 [==============================] - 0s 55us/sample - loss: 27.2757\n",
      "Epoch 17/108\n",
      "506/506 [==============================] - 0s 55us/sample - loss: 27.5943\n",
      "Epoch 18/108\n",
      "506/506 [==============================] - 0s 47us/sample - loss: 31.3180\n",
      "Epoch 19/108\n",
      "506/506 [==============================] - 0s 49us/sample - loss: 26.0618\n",
      "Epoch 20/108\n",
      "506/506 [==============================] - 0s 61us/sample - loss: 27.8072\n",
      "Epoch 21/108\n",
      "506/506 [==============================] - 0s 47us/sample - loss: 29.5880\n",
      "Epoch 22/108\n",
      "506/506 [==============================] - 0s 47us/sample - loss: 26.8787\n",
      "Epoch 23/108\n",
      "506/506 [==============================] - 0s 47us/sample - loss: 25.5744\n",
      "Epoch 24/108\n",
      "506/506 [==============================] - 0s 47us/sample - loss: 27.4732\n",
      "Epoch 25/108\n",
      "506/506 [==============================] - 0s 49us/sample - loss: 33.1569\n",
      "Epoch 26/108\n",
      "506/506 [==============================] - 0s 47us/sample - loss: 27.4544\n",
      "Epoch 27/108\n",
      "506/506 [==============================] - 0s 45us/sample - loss: 30.0952\n",
      "Epoch 28/108\n",
      "506/506 [==============================] - 0s 47us/sample - loss: 29.0361\n",
      "Epoch 29/108\n",
      "506/506 [==============================] - 0s 43us/sample - loss: 27.2269\n",
      "Epoch 30/108\n",
      "506/506 [==============================] - 0s 49us/sample - loss: 28.2083\n",
      "Epoch 31/108\n",
      "506/506 [==============================] - 0s 45us/sample - loss: 27.9411\n",
      "Epoch 32/108\n",
      "506/506 [==============================] - 0s 51us/sample - loss: 25.6778\n",
      "Epoch 33/108\n",
      "506/506 [==============================] - 0s 45us/sample - loss: 26.4032\n",
      "Epoch 34/108\n",
      "506/506 [==============================] - 0s 47us/sample - loss: 24.6894\n",
      "Epoch 35/108\n",
      "506/506 [==============================] - 0s 47us/sample - loss: 29.7620\n",
      "Epoch 36/108\n",
      "506/506 [==============================] - 0s 47us/sample - loss: 28.1194\n",
      "Epoch 37/108\n",
      "506/506 [==============================] - 0s 49us/sample - loss: 27.1325\n",
      "Epoch 38/108\n",
      "506/506 [==============================] - 0s 47us/sample - loss: 30.1603\n",
      "Epoch 39/108\n",
      "506/506 [==============================] - 0s 47us/sample - loss: 26.1477\n",
      "Epoch 40/108\n",
      "506/506 [==============================] - 0s 45us/sample - loss: 32.8043\n",
      "Epoch 41/108\n",
      "506/506 [==============================] - 0s 45us/sample - loss: 26.7052\n",
      "Epoch 42/108\n",
      "506/506 [==============================] - 0s 45us/sample - loss: 26.9349\n",
      "Epoch 43/108\n",
      "506/506 [==============================] - 0s 47us/sample - loss: 27.2409\n",
      "Epoch 44/108\n",
      "506/506 [==============================] - 0s 49us/sample - loss: 25.7051\n",
      "Epoch 45/108\n",
      "506/506 [==============================] - 0s 45us/sample - loss: 29.9833\n",
      "Epoch 46/108\n",
      "506/506 [==============================] - 0s 47us/sample - loss: 27.4766\n",
      "Epoch 47/108\n",
      "506/506 [==============================] - 0s 49us/sample - loss: 27.2753\n",
      "Epoch 48/108\n",
      "506/506 [==============================] - 0s 51us/sample - loss: 25.9529\n",
      "Epoch 49/108\n",
      "506/506 [==============================] - 0s 47us/sample - loss: 25.8214\n",
      "Epoch 50/108\n",
      "506/506 [==============================] - 0s 47us/sample - loss: 30.8668\n",
      "Epoch 51/108\n",
      "506/506 [==============================] - 0s 49us/sample - loss: 25.6306\n",
      "Epoch 52/108\n",
      "506/506 [==============================] - 0s 53us/sample - loss: 25.8968\n",
      "Epoch 53/108\n",
      "506/506 [==============================] - 0s 41us/sample - loss: 25.5878\n",
      "Epoch 54/108\n",
      "506/506 [==============================] - 0s 43us/sample - loss: 26.6538\n",
      "Epoch 55/108\n",
      "506/506 [==============================] - 0s 45us/sample - loss: 28.4294\n",
      "Epoch 56/108\n",
      "506/506 [==============================] - 0s 43us/sample - loss: 27.1243\n",
      "Epoch 57/108\n",
      "506/506 [==============================] - 0s 41us/sample - loss: 26.1320\n",
      "Epoch 58/108\n",
      "506/506 [==============================] - 0s 41us/sample - loss: 30.2027\n",
      "Epoch 59/108\n",
      "506/506 [==============================] - 0s 43us/sample - loss: 30.4485\n",
      "Epoch 60/108\n",
      "506/506 [==============================] - 0s 45us/sample - loss: 28.8263\n",
      "Epoch 61/108\n",
      "506/506 [==============================] - 0s 47us/sample - loss: 29.7468\n",
      "Epoch 62/108\n",
      "506/506 [==============================] - 0s 49us/sample - loss: 31.5717\n",
      "Epoch 63/108\n",
      "506/506 [==============================] - 0s 45us/sample - loss: 28.9773\n",
      "Epoch 64/108\n",
      "506/506 [==============================] - 0s 49us/sample - loss: 25.5871\n",
      "Epoch 65/108\n",
      "506/506 [==============================] - 0s 45us/sample - loss: 27.8015\n",
      "Epoch 66/108\n",
      "506/506 [==============================] - 0s 49us/sample - loss: 30.6653\n",
      "Epoch 67/108\n",
      "506/506 [==============================] - 0s 43us/sample - loss: 28.5722\n",
      "Epoch 68/108\n",
      "506/506 [==============================] - 0s 47us/sample - loss: 28.2938\n",
      "Epoch 69/108\n",
      "506/506 [==============================] - 0s 36us/sample - loss: 28.9929\n",
      "Epoch 70/108\n",
      "506/506 [==============================] - 0s 43us/sample - loss: 27.9458\n",
      "Epoch 71/108\n",
      "506/506 [==============================] - 0s 41us/sample - loss: 28.0297\n",
      "Epoch 72/108\n",
      "506/506 [==============================] - 0s 40us/sample - loss: 25.2439\n",
      "Epoch 73/108\n",
      "506/506 [==============================] - 0s 40us/sample - loss: 32.7679\n",
      "Epoch 74/108\n",
      "506/506 [==============================] - 0s 51us/sample - loss: 28.4046\n",
      "Epoch 75/108\n",
      "506/506 [==============================] - 0s 51us/sample - loss: 32.3620\n",
      "Epoch 76/108\n",
      "506/506 [==============================] - 0s 43us/sample - loss: 27.1543\n",
      "Epoch 77/108\n",
      "506/506 [==============================] - 0s 41us/sample - loss: 26.9504\n",
      "Epoch 78/108\n",
      "506/506 [==============================] - 0s 38us/sample - loss: 28.7573\n",
      "Epoch 79/108\n",
      "506/506 [==============================] - 0s 40us/sample - loss: 26.4910\n",
      "Epoch 80/108\n",
      "506/506 [==============================] - 0s 40us/sample - loss: 28.0668\n",
      "Epoch 81/108\n",
      "506/506 [==============================] - 0s 41us/sample - loss: 26.3858\n",
      "Epoch 82/108\n",
      "506/506 [==============================] - 0s 43us/sample - loss: 28.9322\n",
      "Epoch 83/108\n",
      "506/506 [==============================] - 0s 45us/sample - loss: 28.1991\n",
      "Epoch 84/108\n",
      "506/506 [==============================] - 0s 45us/sample - loss: 26.7329\n",
      "Epoch 85/108\n",
      "506/506 [==============================] - 0s 43us/sample - loss: 29.7134\n",
      "Epoch 86/108\n",
      "506/506 [==============================] - 0s 51us/sample - loss: 27.7822\n",
      "Epoch 87/108\n",
      "506/506 [==============================] - 0s 43us/sample - loss: 27.4394\n",
      "Epoch 88/108\n",
      "506/506 [==============================] - 0s 57us/sample - loss: 24.9128\n",
      "Epoch 89/108\n",
      "506/506 [==============================] - 0s 53us/sample - loss: 26.2223\n",
      "Epoch 90/108\n",
      "506/506 [==============================] - 0s 51us/sample - loss: 28.1215\n",
      "Epoch 91/108\n",
      "506/506 [==============================] - 0s 47us/sample - loss: 26.4582\n",
      "Epoch 92/108\n",
      "506/506 [==============================] - 0s 45us/sample - loss: 25.1759\n",
      "Epoch 93/108\n",
      "506/506 [==============================] - 0s 41us/sample - loss: 27.6436\n",
      "Epoch 94/108\n",
      "506/506 [==============================] - 0s 40us/sample - loss: 28.1573\n",
      "Epoch 95/108\n",
      "506/506 [==============================] - 0s 41us/sample - loss: 25.2743\n",
      "Epoch 96/108\n",
      "506/506 [==============================] - 0s 38us/sample - loss: 26.3189\n",
      "Epoch 97/108\n",
      "506/506 [==============================] - 0s 40us/sample - loss: 25.3223\n",
      "Epoch 98/108\n",
      "506/506 [==============================] - 0s 40us/sample - loss: 26.6165\n",
      "Epoch 99/108\n",
      "506/506 [==============================] - 0s 41us/sample - loss: 28.3804\n",
      "Epoch 100/108\n",
      "506/506 [==============================] - 0s 45us/sample - loss: 29.4576\n",
      "Epoch 101/108\n",
      "506/506 [==============================] - 0s 43us/sample - loss: 29.1635\n",
      "Epoch 102/108\n",
      "506/506 [==============================] - 0s 40us/sample - loss: 31.2489\n",
      "Epoch 103/108\n",
      "506/506 [==============================] - 0s 38us/sample - loss: 27.8944\n",
      "Epoch 104/108\n",
      "506/506 [==============================] - 0s 40us/sample - loss: 30.0197\n",
      "Epoch 105/108\n",
      "506/506 [==============================] - 0s 43us/sample - loss: 27.6467\n",
      "Epoch 106/108\n",
      "506/506 [==============================] - 0s 40us/sample - loss: 26.6664\n",
      "Epoch 107/108\n",
      "506/506 [==============================] - 0s 41us/sample - loss: 28.5403\n",
      "Epoch 108/108\n",
      "506/506 [==============================] - 0s 41us/sample - loss: 24.6081\n"
     ]
    },
    {
     "data": {
      "text/plain": [
       "<keras.callbacks.History at 0x28baa9b38b0>"
      ]
     },
     "execution_count": 14,
     "metadata": {},
     "output_type": "execute_result"
    }
   ],
   "source": [
    "from keras.models import Sequential\n",
    "model=tf.keras.models.Sequential()\n",
    "model.add(tf.keras.layers.BatchNormalization(input_shape=(13,)))\n",
    "model.add(tf.keras.layers.Dense(1))\n",
    "model.compile(optimizer='sgd',loss='mse')\n",
    "model.fit(features,actual_prices,epochs=108)\n"
   ]
  },
  {
   "cell_type": "code",
   "execution_count": 16,
   "id": "4c8493d3",
   "metadata": {},
   "outputs": [],
   "source": [
    "model.save('models/boston_housing.h5')\n",
    "sess.close()"
   ]
  },
  {
   "cell_type": "code",
   "execution_count": 17,
   "id": "0fec0255",
   "metadata": {},
   "outputs": [
    {
     "name": "stdout",
     "output_type": "stream",
     "text": [
      "Requirement already satisfied: hspy in c:\\anaconda\\lib\\site-packages (1.6.4)\n",
      "Requirement already satisfied: conda in c:\\anaconda\\lib\\site-packages (4.10.3)\n",
      "Requirement already satisfied: Django==1.3 in c:\\anaconda\\lib\\site-packages (from hspy) (1.3)\n",
      "Requirement already satisfied: pycosat>=0.6.3 in c:\\anaconda\\lib\\site-packages (from conda) (0.6.3)\n",
      "Requirement already satisfied: requests>=2.12.4 in c:\\anaconda\\lib\\site-packages (from conda) (2.26.0)\n",
      "Requirement already satisfied: ruamel_yaml_conda>=0.11.14 in c:\\anaconda\\lib\\site-packages (from conda) (0.15.100)\n",
      "Requirement already satisfied: menuinst in c:\\anaconda\\lib\\site-packages (from conda) (1.4.18)\n",
      "Requirement already satisfied: urllib3<1.27,>=1.21.1 in c:\\anaconda\\lib\\site-packages (from requests>=2.12.4->conda) (1.26.7)\n",
      "Requirement already satisfied: certifi>=2017.4.17 in c:\\anaconda\\lib\\site-packages (from requests>=2.12.4->conda) (2021.10.8)\n",
      "Requirement already satisfied: charset-normalizer~=2.0.0 in c:\\anaconda\\lib\\site-packages (from requests>=2.12.4->conda) (2.0.4)\n",
      "Requirement already satisfied: idna<4,>=2.5 in c:\\anaconda\\lib\\site-packages (from requests>=2.12.4->conda) (3.2)\n",
      "Requirement already satisfied: pywin32 in c:\\anaconda\\lib\\site-packages (from menuinst->conda) (228)\n",
      "Note: you may need to restart the kernel to use updated packages.\n"
     ]
    }
   ],
   "source": [
    "pip install hspy conda"
   ]
  },
  {
   "cell_type": "code",
   "execution_count": 18,
   "id": "035ecaef",
   "metadata": {},
   "outputs": [
    {
     "name": "stdout",
     "output_type": "stream",
     "text": [
      "WARNING:tensorflow:From C:\\ANACONDA\\lib\\site-packages\\tensorflow\\python\\ops\\init_ops.py:93: calling Zeros.__init__ (from tensorflow.python.ops.init_ops) with dtype is deprecated and will be removed in a future version.\n",
      "Instructions for updating:\n",
      "Call initializer instance with the dtype argument instead of passing it to the constructor\n",
      "WARNING:tensorflow:From C:\\ANACONDA\\lib\\site-packages\\tensorflow\\python\\ops\\init_ops.py:93: calling Ones.__init__ (from tensorflow.python.ops.init_ops) with dtype is deprecated and will be removed in a future version.\n",
      "Instructions for updating:\n",
      "Call initializer instance with the dtype argument instead of passing it to the constructor\n",
      "WARNING:tensorflow:From C:\\ANACONDA\\lib\\site-packages\\tensorflow\\python\\ops\\init_ops.py:93: calling GlorotUniform.__init__ (from tensorflow.python.ops.init_ops) with dtype is deprecated and will be removed in a future version.\n",
      "Instructions for updating:\n",
      "Call initializer instance with the dtype argument instead of passing it to the constructor\n"
     ]
    }
   ],
   "source": [
    "modelx=tf.keras.models.load_model('models/boston_housing.h5')"
   ]
  },
  {
   "cell_type": "code",
   "execution_count": 19,
   "id": "3fc78069",
   "metadata": {},
   "outputs": [],
   "source": [
    "inputdata=[1.23,0,8.14,0,0.54,6.14,91.7,3.98,4,307,21,396.9,18.72]"
   ]
  },
  {
   "cell_type": "code",
   "execution_count": 20,
   "id": "764a1890",
   "metadata": {},
   "outputs": [],
   "source": [
    "import numpy as np \n",
    "inputdata=np.reshape(inputdata,(1,13))"
   ]
  },
  {
   "cell_type": "code",
   "execution_count": 21,
   "id": "5a8d6512",
   "metadata": {},
   "outputs": [
    {
     "name": "stderr",
     "output_type": "stream",
     "text": [
      "C:\\ANACONDA\\lib\\site-packages\\keras\\engine\\training_v1.py:2067: UserWarning: `Model.state_updates` will be removed in a future version. This property should not be used in TensorFlow 2.0, as `updates` are applied automatically.\n",
      "  updates=self.state_updates,\n"
     ]
    },
    {
     "name": "stdout",
     "output_type": "stream",
     "text": [
      "16.316624\n"
     ]
    }
   ],
   "source": [
    "predicted_output=modelx.predict(inputdata)\n",
    "print(predicted_output[0][0])"
   ]
  },
  {
   "cell_type": "code",
   "execution_count": 25,
   "id": "57554afc",
   "metadata": {},
   "outputs": [],
   "source": [
    "import tensorflow as tf \n",
    "tf.compat.v1.set_random_seed(42)"
   ]
  },
  {
   "cell_type": "code",
   "execution_count": 7,
   "id": "58a46091",
   "metadata": {},
   "outputs": [],
   "source": [
    "(Trainx,Trainy),(TestX,TestY)=tf.keras.datasets.mnist.load_data()"
   ]
  },
  {
   "cell_type": "code",
   "execution_count": 8,
   "id": "97c6d79e",
   "metadata": {},
   "outputs": [],
   "source": [
    "Trainy=tf.keras.utils.to_categorical(Trainy,num_classes=10)\n",
    "TestY=tf.keras.utils.to_categorical(TestY,num_classes=10)"
   ]
  },
  {
   "cell_type": "markdown",
   "id": "b27dcc31",
   "metadata": {},
   "source": [
    "# USING NORMAL LOGISTIC REGRESSION\n"
   ]
  },
  {
   "cell_type": "code",
   "execution_count": 5,
   "id": "930bb82a",
   "metadata": {},
   "outputs": [
    {
     "name": "stdout",
     "output_type": "stream",
     "text": [
      "Model: \"sequential\"\n",
      "_________________________________________________________________\n",
      " Layer (type)                Output Shape              Param #   \n",
      "=================================================================\n",
      " reshape (Reshape)           (None, 784)               0         \n",
      "                                                                 \n",
      " batch_normalization (BatchN  (None, 784)              3136      \n",
      " ormalization)                                                   \n",
      "                                                                 \n",
      " dense (Dense)               (None, 10)                7850      \n",
      "                                                                 \n",
      "=================================================================\n",
      "Total params: 10,986\n",
      "Trainable params: 9,418\n",
      "Non-trainable params: 1,568\n",
      "_________________________________________________________________\n"
     ]
    }
   ],
   "source": [
    "import tensorflow as tf\n",
    "from keras.models import Sequential\n",
    "modelclass=tf.keras.models.Sequential()\n",
    "modelclass.add(tf.keras.layers.Reshape((784,),input_shape=(28,28)))\n",
    "modelclass.add(tf.keras.layers.BatchNormalization())\n",
    "modelclass.add(tf.keras.layers.Dense(10,activation='softmax'))\n",
    "modelclass.compile(optimizer='sgd',loss='categorical_crossentropy',metrics=['accuracy'])\n",
    "modelclass.summary()"
   ]
  },
  {
   "cell_type": "code",
   "execution_count": 9,
   "id": "dbfa22d8",
   "metadata": {},
   "outputs": [
    {
     "name": "stdout",
     "output_type": "stream",
     "text": [
      "Epoch 1/20\n",
      "556/556 [==============================] - 2s 3ms/step - loss: 0.6559 - accuracy: 0.8081 - val_loss: 0.4806 - val_accuracy: 0.8809\n",
      "Epoch 2/20\n",
      "556/556 [==============================] - 2s 4ms/step - loss: 0.3959 - accuracy: 0.8868 - val_loss: 0.4186 - val_accuracy: 0.8964\n",
      "Epoch 3/20\n",
      "556/556 [==============================] - 2s 3ms/step - loss: 0.3580 - accuracy: 0.8966 - val_loss: 0.4130 - val_accuracy: 0.9039\n",
      "Epoch 4/20\n",
      "556/556 [==============================] - 2s 3ms/step - loss: 0.3383 - accuracy: 0.9025 - val_loss: 0.3925 - val_accuracy: 0.9065\n",
      "Epoch 5/20\n",
      "556/556 [==============================] - 2s 3ms/step - loss: 0.3274 - accuracy: 0.9064 - val_loss: 0.3639 - val_accuracy: 0.9097\n",
      "Epoch 6/20\n",
      "556/556 [==============================] - 2s 3ms/step - loss: 0.3168 - accuracy: 0.9095 - val_loss: 0.3592 - val_accuracy: 0.9128\n",
      "Epoch 7/20\n",
      "556/556 [==============================] - 2s 3ms/step - loss: 0.3107 - accuracy: 0.9115 - val_loss: 0.3567 - val_accuracy: 0.9134\n",
      "Epoch 8/20\n",
      "556/556 [==============================] - 2s 3ms/step - loss: 0.3064 - accuracy: 0.9116 - val_loss: 0.3567 - val_accuracy: 0.9144\n",
      "Epoch 9/20\n",
      "556/556 [==============================] - 2s 3ms/step - loss: 0.3011 - accuracy: 0.9140 - val_loss: 0.3576 - val_accuracy: 0.9154\n",
      "Epoch 10/20\n",
      "556/556 [==============================] - 2s 3ms/step - loss: 0.2985 - accuracy: 0.9153 - val_loss: 0.3376 - val_accuracy: 0.9171\n",
      "Epoch 11/20\n",
      "556/556 [==============================] - 2s 3ms/step - loss: 0.2934 - accuracy: 0.9167 - val_loss: 0.3584 - val_accuracy: 0.9180\n",
      "Epoch 12/20\n",
      "556/556 [==============================] - 2s 4ms/step - loss: 0.2927 - accuracy: 0.9169 - val_loss: 0.3471 - val_accuracy: 0.9179\n",
      "Epoch 13/20\n",
      "556/556 [==============================] - 2s 3ms/step - loss: 0.2901 - accuracy: 0.9185 - val_loss: 0.3353 - val_accuracy: 0.9192\n",
      "Epoch 14/20\n",
      "556/556 [==============================] - 2s 3ms/step - loss: 0.2857 - accuracy: 0.9195 - val_loss: 0.3488 - val_accuracy: 0.9191\n",
      "Epoch 15/20\n",
      "556/556 [==============================] - 2s 3ms/step - loss: 0.2856 - accuracy: 0.9193 - val_loss: 0.3551 - val_accuracy: 0.9193\n",
      "Epoch 16/20\n",
      "556/556 [==============================] - 2s 3ms/step - loss: 0.2830 - accuracy: 0.9194 - val_loss: 0.3459 - val_accuracy: 0.9195\n",
      "Epoch 17/20\n",
      "556/556 [==============================] - 1s 3ms/step - loss: 0.2811 - accuracy: 0.9205 - val_loss: 0.3489 - val_accuracy: 0.9205\n",
      "Epoch 18/20\n",
      "556/556 [==============================] - 1s 3ms/step - loss: 0.2804 - accuracy: 0.9208 - val_loss: 0.3390 - val_accuracy: 0.9203\n",
      "Epoch 19/20\n",
      "556/556 [==============================] - 1s 3ms/step - loss: 0.2784 - accuracy: 0.9219 - val_loss: 0.3277 - val_accuracy: 0.9200\n",
      "Epoch 20/20\n",
      "556/556 [==============================] - 2s 3ms/step - loss: 0.2783 - accuracy: 0.9216 - val_loss: 0.3266 - val_accuracy: 0.9210\n"
     ]
    },
    {
     "data": {
      "text/plain": [
       "<keras.callbacks.History at 0x1bf86984070>"
      ]
     },
     "execution_count": 9,
     "metadata": {},
     "output_type": "execute_result"
    }
   ],
   "source": [
    "modelclass.fit(Trainx,Trainy,validation_data=(TestX,TestY), epochs=20, batch_size=108)"
   ]
  },
  {
   "cell_type": "markdown",
   "id": "b80cff3a",
   "metadata": {},
   "source": [
    "\n",
    "\n",
    "# USING DL mix not sigmoid but relu sigmoid is in other notebook\n"
   ]
  },
  {
   "cell_type": "code",
   "execution_count": 51,
   "id": "2b0a3931",
   "metadata": {},
   "outputs": [
    {
     "name": "stdout",
     "output_type": "stream",
     "text": [
      "Train labels:  {0: 5923, 1: 6742, 2: 5958, 3: 6131, 4: 5842, 5: 5421, 6: 5918, 7: 6265, 8: 5851, 9: 5949}\n",
      "\n",
      "Test labels:  {0: 980, 1: 1135, 2: 1032, 3: 1010, 4: 982, 5: 892, 6: 958, 7: 1028, 8: 974, 9: 1009}\n"
     ]
    }
   ],
   "source": [
    "# import dataset\n",
    "from keras.datasets import mnist\n",
    "\n",
    "\n",
    "# load dataset\n",
    "(x_train, y_train),(x_test, y_test) = mnist.load_data()\n",
    "\n",
    "\n",
    "\n",
    "# count the number of unique train labels\n",
    "unique, counts = np.unique(y_train, return_counts=True)\n",
    "print(\"Train labels: \", dict(zip(unique, counts)))\n",
    "\n",
    "\n",
    "\n",
    "# count the number of unique test labels\n",
    "unique, counts = np.unique(y_test, return_counts=True)\n",
    "print(\"\\nTest labels: \", dict(zip(unique, counts)))\n"
   ]
  },
  {
   "cell_type": "code",
   "execution_count": 53,
   "id": "b686a21c",
   "metadata": {},
   "outputs": [
    {
     "data": {
      "image/png": "[encoded data removed]",
      "text/plain": [
       "<Figure size 360x360 with 25 Axes>"
      ]
     },
     "metadata": {
      "needs_background": "light"
     },
     "output_type": "display_data"
    }
   ],
   "source": [
    "import numpy as np # linear algebra\n",
    "import pandas as pd # data processing, CSV file I/O (e.g. pd.read_csv)\n",
    "\n",
    "\n",
    "import matplotlib.pyplot as plt\n",
    "indexes = np.random.randint(0, x_train.shape[0], size=25)\n",
    "images = x_train[indexes]\n",
    "labels = y_train[indexes]\n",
    "\n",
    "\n",
    "# plot the 25 mnist digits\n",
    "plt.figure(figsize=(5,5))\n",
    "for i in range(len(indexes)):\n",
    "    plt.subplot(5, 5, i + 1)\n",
    "    image = images[i]\n",
    "    plt.imshow(image, cmap='gray')\n",
    "    plt.axis('off')\n",
    "    \n",
    "plt.show()\n",
    "plt.savefig(\"mnist-samples.png\")\n",
    "plt.close('all')"
   ]
  },
  {
   "cell_type": "code",
   "execution_count": 54,
   "id": "87548f07",
   "metadata": {},
   "outputs": [],
   "source": [
    "from keras.models import Sequential\n",
    "from keras.layers import Dense, Activation, Dropout\n",
    "from keras.utils import to_categorical, plot_model"
   ]
  },
  {
   "cell_type": "code",
   "execution_count": 55,
   "id": "3479c54d",
   "metadata": {},
   "outputs": [],
   "source": [
    "num_labels = len(np.unique(y_train))"
   ]
  },
  {
   "cell_type": "code",
   "execution_count": 56,
   "id": "eba7996d",
   "metadata": {},
   "outputs": [
    {
     "name": "stdout",
     "output_type": "stream",
     "text": [
      "10\n"
     ]
    }
   ],
   "source": [
    "print(num_labels)"
   ]
  },
  {
   "cell_type": "code",
   "execution_count": 57,
   "id": "473db97f",
   "metadata": {},
   "outputs": [],
   "source": [
    "y_train = to_categorical(y_train)\n",
    "y_test = to_categorical(y_test)"
   ]
  },
  {
   "cell_type": "code",
   "execution_count": 58,
   "id": "2d557732",
   "metadata": {},
   "outputs": [
    {
     "data": {
      "text/plain": [
       "784"
      ]
     },
     "execution_count": 58,
     "metadata": {},
     "output_type": "execute_result"
    }
   ],
   "source": [
    "image_size = x_train.shape[1]\n",
    "input_size = image_size * image_size\n",
    "input_size"
   ]
  },
  {
   "cell_type": "code",
   "execution_count": 59,
   "id": "ed0d964c",
   "metadata": {},
   "outputs": [],
   "source": [
    "x_train = np.reshape(x_train, [-1, input_size])\n",
    "x_train = x_train.astype('float32') / 255\n",
    "x_test = np.reshape(x_test, [-1, input_size])\n",
    "x_test = x_test.astype('float32') / 255"
   ]
  },
  {
   "cell_type": "code",
   "execution_count": 60,
   "id": "2a5ed19f",
   "metadata": {},
   "outputs": [],
   "source": [
    "batch_size = 128\n",
    "hidden_units = 256\n",
    "dropout = 0.45"
   ]
  },
  {
   "cell_type": "code",
   "execution_count": 61,
   "id": "721414a3",
   "metadata": {},
   "outputs": [],
   "source": [
    "modelclassf = Sequential()\n",
    "modelclassf.add(Dense(hidden_units, input_dim=input_size))\n",
    "modelclassf.add(Activation('relu'))\n",
    "modelclassf.add(Dropout(dropout))\n",
    "modelclassf.add(Dense(hidden_units))\n",
    "modelclassf.add(Activation('relu'))\n",
    "modelclassf.add(Dropout(dropout))\n",
    "modelclassf.add(Dense(num_labels))\n",
    "modelclassf.add(Activation('softmax'))"
   ]
  },
  {
   "cell_type": "code",
   "execution_count": 62,
   "id": "c642a212",
   "metadata": {},
   "outputs": [
    {
     "name": "stdout",
     "output_type": "stream",
     "text": [
      "Model: \"sequential_19\"\n",
      "_________________________________________________________________\n",
      " Layer (type)                Output Shape              Param #   \n",
      "=================================================================\n",
      " dense_18 (Dense)            (None, 256)               200960    \n",
      "                                                                 \n",
      " activation (Activation)     (None, 256)               0         \n",
      "                                                                 \n",
      " dropout (Dropout)           (None, 256)               0         \n",
      "                                                                 \n",
      " dense_19 (Dense)            (None, 256)               65792     \n",
      "                                                                 \n",
      " activation_1 (Activation)   (None, 256)               0         \n",
      "                                                                 \n",
      " dropout_1 (Dropout)         (None, 256)               0         \n",
      "                                                                 \n",
      " dense_20 (Dense)            (None, 10)                2570      \n",
      "                                                                 \n",
      " activation_2 (Activation)   (None, 10)                0         \n",
      "                                                                 \n",
      "=================================================================\n",
      "Total params: 269,322\n",
      "Trainable params: 269,322\n",
      "Non-trainable params: 0\n",
      "_________________________________________________________________\n"
     ]
    }
   ],
   "source": [
    "modelclassf.summary()"
   ]
  },
  {
   "cell_type": "code",
   "execution_count": 65,
   "id": "d5ece1c5",
   "metadata": {},
   "outputs": [],
   "source": [
    "modelclassf.compile(loss='categorical_crossentropy', \n",
    "              optimizer='sgd',\n",
    "              metrics=['accuracy'])"
   ]
  },
  {
   "cell_type": "code",
   "execution_count": 66,
   "id": "2adc92e1",
   "metadata": {},
   "outputs": [
    {
     "name": "stdout",
     "output_type": "stream",
     "text": [
      "Train on 60000 samples\n",
      "Epoch 1/20\n",
      "60000/60000 [==============================] - 4s 67us/sample - loss: 1.6196 - acc: 0.4780\n",
      "Epoch 2/20\n",
      "60000/60000 [==============================] - 3s 52us/sample - loss: 0.8355 - acc: 0.7407\n",
      "Epoch 3/20\n",
      "60000/60000 [==============================] - 3s 49us/sample - loss: 0.6365 - acc: 0.8056\n",
      "Epoch 4/20\n",
      "60000/60000 [==============================] - 3s 53us/sample - loss: 0.5454 - acc: 0.8353\n",
      "Epoch 5/20\n",
      "60000/60000 [==============================] - 3s 53us/sample - loss: 0.4887 - acc: 0.8531\n",
      "Epoch 6/20\n",
      "60000/60000 [==============================] - 3s 56us/sample - loss: 0.4488 - acc: 0.8662\n",
      "Epoch 7/20\n",
      "60000/60000 [==============================] - 3s 51us/sample - loss: 0.4154 - acc: 0.8760\n",
      "Epoch 8/20\n",
      "60000/60000 [==============================] - 3s 49us/sample - loss: 0.3941 - acc: 0.8824\n",
      "Epoch 9/20\n",
      "60000/60000 [==============================] - 3s 52us/sample - loss: 0.3724 - acc: 0.8895\n",
      "Epoch 10/20\n",
      "60000/60000 [==============================] - 3s 52us/sample - loss: 0.3580 - acc: 0.8938\n",
      "Epoch 11/20\n",
      "60000/60000 [==============================] - 3s 55us/sample - loss: 0.3413 - acc: 0.8993\n",
      "Epoch 12/20\n",
      "60000/60000 [==============================] - 3s 48us/sample - loss: 0.3265 - acc: 0.9050\n",
      "Epoch 13/20\n",
      "60000/60000 [==============================] - 3s 50us/sample - loss: 0.3158 - acc: 0.9068\n",
      "Epoch 14/20\n",
      "60000/60000 [==============================] - 3s 51us/sample - loss: 0.3028 - acc: 0.9104\n",
      "Epoch 15/20\n",
      "60000/60000 [==============================] - 3s 51us/sample - loss: 0.2912 - acc: 0.9150\n",
      "Epoch 16/20\n",
      "60000/60000 [==============================] - 3s 56us/sample - loss: 0.2850 - acc: 0.9162\n",
      "Epoch 17/20\n",
      "60000/60000 [==============================] - 3s 51us/sample - loss: 0.2771 - acc: 0.9194\n",
      "Epoch 18/20\n",
      "60000/60000 [==============================] - 3s 48us/sample - loss: 0.2704 - acc: 0.9202\n",
      "Epoch 19/20\n",
      "60000/60000 [==============================] - 3s 49us/sample - loss: 0.2644 - acc: 0.9222\n",
      "Epoch 20/20\n",
      "60000/60000 [==============================] - 3s 49us/sample - loss: 0.2549 - acc: 0.9251\n"
     ]
    },
    {
     "data": {
      "text/plain": [
       "<keras.callbacks.History at 0x28bbdf3e610>"
      ]
     },
     "execution_count": 66,
     "metadata": {},
     "output_type": "execute_result"
    }
   ],
   "source": [
    "modelclassf.fit(x_train, y_train, epochs=20, batch_size=batch_size)"
   ]
  },
  {
   "cell_type": "code",
   "execution_count": 78,
   "id": "3972ec77",
   "metadata": {},
   "outputs": [
    {
     "name": "stdout",
     "output_type": "stream",
     "text": [
      "THE PREDICTED NO IS: 7\n"
     ]
    }
   ],
   "source": [
    "prediction=modelclassf.predict(x_test[0:1])\n",
    "predicted_num=np.argmax(prediction)\n",
    "print(\"THE PREDICTED NO IS:\",predicted_num)"
   ]
  },
  {
   "cell_type": "code",
   "execution_count": 83,
   "id": "bd5f2d45",
   "metadata": {},
   "outputs": [
    {
     "data": {
      "text/plain": [
       "<matplotlib.image.AxesImage at 0x28bbde300d0>"
      ]
     },
     "execution_count": 83,
     "metadata": {},
     "output_type": "execute_result"
    },
    {
     "data": {
      "image/png": "[encoded data removed]",
      "text/plain": [
       "<Figure size 432x288 with 1 Axes>"
      ]
     },
     "metadata": {
      "needs_background": "light"
     },
     "output_type": "display_data"
    }
   ],
   "source": [
    "plt.imshow(TestX[0],cmap='gray')"
   ]
  },
  {
   "cell_type": "code",
   "execution_count": 88,
   "id": "4f699a1c",
   "metadata": {},
   "outputs": [
    {
     "name": "stdout",
     "output_type": "stream",
     "text": [
      "\n",
      "Test accuracy: 94.9%\n"
     ]
    }
   ],
   "source": [
    "loss, acc = modelclassf.evaluate(x_test, y_test, batch_size=batch_size)\n",
    "print(\"\\nTest accuracy: %.1f%%\" % (100.0 * acc))"
   ]
  },
  {
   "cell_type": "code",
   "execution_count": 3,
   "id": "22de8534",
   "metadata": {},
   "outputs": [
    {
     "ename": "SyntaxError",
     "evalue": "invalid syntax (Temp/ipykernel_8012/3432714634.py, line 1)",
     "output_type": "error",
     "traceback": [
      "\u001b[1;36m  File \u001b[1;32m\"C:\\Users\\Dell\\AppData\\Local\\Temp/ipykernel_8012/3432714634.py\"\u001b[1;36m, line \u001b[1;32m1\u001b[0m\n\u001b[1;33m    open(file=Desktop/6th_sem/PW4/DL-HANDWRITING%20RECOGNITION.ipynb)\u001b[0m\n\u001b[1;37m                       ^\u001b[0m\n\u001b[1;31mSyntaxError\u001b[0m\u001b[1;31m:\u001b[0m invalid syntax\n"
     ]
    }
   ],
   "source": []
  },
  {
   "cell_type": "code",
   "execution_count": null,
   "id": "f028a85a",
   "metadata": {},
   "outputs": [],
   "source": []
  }
 ],
 "metadata": {
  "kernelspec": {
   "display_name": "Python 3 (ipykernel)",
   "language": "python",
   "name": "python3"
  },
  "language_info": {
   "codemirror_mode": {
    "name": "ipython",
    "version": 3
   },
   "file_extension": ".py",
   "mimetype": "text/x-python",
   "name": "python",
   "nbconvert_exporter": "python",
   "pygments_lexer": "ipython3",
   "version": "3.9.7"
  }
 },
 "nbformat": 4,
 "nbformat_minor": 5
}
