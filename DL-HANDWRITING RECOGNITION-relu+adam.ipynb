{
 "cells": [
  {
   "cell_type": "code",
   "execution_count": 14,
   "id": "32a7b4d9",
   "metadata": {},
   "outputs": [],
   "source": [
    "import tensorflow as tf \n",
    "tf.compat.v1.set_random_seed(42)"
   ]
  },
  {
   "cell_type": "code",
   "execution_count": 15,
   "id": "e9e20036",
   "metadata": {},
   "outputs": [],
   "source": [
    "(Trainx,Trainy),(TestX,TestY)=tf.keras.datasets.mnist.load_data()"
   ]
  },
  {
   "cell_type": "code",
   "execution_count": 16,
   "id": "7d95d9c2",
   "metadata": {},
   "outputs": [],
   "source": [
    "Trainy=tf.keras.utils.to_categorical(Trainy,num_classes=10)\n",
    "TestY=tf.keras.utils.to_categorical(TestY,num_classes=10)"
   ]
  },
  {
   "cell_type": "code",
   "execution_count": 17,
   "id": "76b04ab2",
   "metadata": {},
   "outputs": [],
   "source": [
    "from keras.models import Sequential\n",
    "modelclass=tf.keras.models.Sequential()"
   ]
  },
  {
   "cell_type": "code",
   "execution_count": 18,
   "id": "dde17be3",
   "metadata": {},
   "outputs": [],
   "source": [
    "modelclass.add(tf.keras.layers.Reshape((784,),input_shape=(28,28)))\n",
    "modelclass.add(tf.keras.layers.BatchNormalization())"
   ]
  },
  {
   "cell_type": "code",
   "execution_count": 19,
   "id": "6c03a55c",
   "metadata": {},
   "outputs": [],
   "source": [
    "modelclass.add(tf.keras.layers.Dense(200,activation='relu'))"
   ]
  },
  {
   "cell_type": "code",
   "execution_count": 20,
   "id": "251f65a8",
   "metadata": {},
   "outputs": [],
   "source": [
    "modelclass.add(tf.keras.layers.Dropout(0.25))"
   ]
  },
  {
   "cell_type": "code",
   "execution_count": 21,
   "id": "55946fad",
   "metadata": {},
   "outputs": [],
   "source": [
    "modelclass.add(tf.keras.layers.Dense(100,activation='relu'))"
   ]
  },
  {
   "cell_type": "code",
   "execution_count": 22,
   "id": "bbbb222c",
   "metadata": {},
   "outputs": [],
   "source": [
    "modelclass.add(tf.keras.layers.Dense(60,activation='relu'))"
   ]
  },
  {
   "cell_type": "code",
   "execution_count": 23,
   "id": "4ed11ce3",
   "metadata": {},
   "outputs": [],
   "source": [
    "modelclass.add(tf.keras.layers.Dropout(0.25))"
   ]
  },
  {
   "cell_type": "code",
   "execution_count": 24,
   "id": "c5cd4724",
   "metadata": {},
   "outputs": [],
   "source": [
    "modelclass.add(tf.keras.layers.Dense(30,activation='relu'))"
   ]
  },
  {
   "cell_type": "code",
   "execution_count": 25,
   "id": "113ca147",
   "metadata": {},
   "outputs": [],
   "source": [
    "modelclass.add(tf.keras.layers.Dense(10,activation='softmax'))"
   ]
  },
  {
   "cell_type": "code",
   "execution_count": 26,
   "id": "c889a3b8",
   "metadata": {},
   "outputs": [],
   "source": [
    "tensorboard=tf.keras.callbacks.TensorBoard(\n",
    "    log_dir='logs',\n",
    "    histogram_freq=0,\n",
    "    write_graph=True,\n",
    "    write_images=True,\n",
    "    write_steps_per_second=True,\n",
    "    update_freq='epoch',\n",
    "    profile_batch=0,\n",
    "    embeddings_freq=0,\n",
    "    embeddings_metadata=None,\n",
    "  \n",
    ")"
   ]
  },
  {
   "cell_type": "code",
   "execution_count": 27,
   "id": "d3e61d8a",
   "metadata": {},
   "outputs": [],
   "source": [
    "sgd_optimizer=tf.keras.optimizers.SGD(learning_rate=0.1,decay=0.002,momentum=0.91)"
   ]
  },
  {
   "cell_type": "code",
   "execution_count": 28,
   "id": "0367dd03",
   "metadata": {},
   "outputs": [],
   "source": [
    "modelclass.compile(optimizer='adam',loss='categorical_crossentropy',metrics=['accuracy'])"
   ]
  },
  {
   "cell_type": "code",
   "execution_count": 29,
   "id": "70b4b202",
   "metadata": {},
   "outputs": [
    {
     "name": "stdout",
     "output_type": "stream",
     "text": [
      "Model: \"sequential_1\"\n",
      "_________________________________________________________________\n",
      " Layer (type)                Output Shape              Param #   \n",
      "=================================================================\n",
      " reshape_1 (Reshape)         (None, 784)               0         \n",
      "                                                                 \n",
      " batch_normalization_1 (Batc  (None, 784)              3136      \n",
      " hNormalization)                                                 \n",
      "                                                                 \n",
      " dense_4 (Dense)             (None, 200)               157000    \n",
      "                                                                 \n",
      " dropout_2 (Dropout)         (None, 200)               0         \n",
      "                                                                 \n",
      " dense_5 (Dense)             (None, 100)               20100     \n",
      "                                                                 \n",
      " dense_6 (Dense)             (None, 60)                6060      \n",
      "                                                                 \n",
      " dropout_3 (Dropout)         (None, 60)                0         \n",
      "                                                                 \n",
      " dense_7 (Dense)             (None, 30)                1830      \n",
      "                                                                 \n",
      " dense_8 (Dense)             (None, 10)                310       \n",
      "                                                                 \n",
      "=================================================================\n",
      "Total params: 188,436\n",
      "Trainable params: 186,868\n",
      "Non-trainable params: 1,568\n",
      "_________________________________________________________________\n"
     ]
    }
   ],
   "source": [
    "modelclass.summary()"
   ]
  },
  {
   "cell_type": "code",
   "execution_count": 53,
   "id": "1470ed1e",
   "metadata": {},
   "outputs": [],
   "source": []
  },
  {
   "cell_type": "code",
   "execution_count": 30,
   "id": "84768fcf",
   "metadata": {},
   "outputs": [
    {
     "name": "stdout",
     "output_type": "stream",
     "text": [
      "Epoch 1/31\n",
      "2223/2223 [==============================] - 9s 4ms/step - loss: 0.3748 - accuracy: 0.8874 - val_loss: 0.2450 - val_accuracy: 0.9539\n",
      "Epoch 2/31\n",
      "2223/2223 [==============================] - 8s 4ms/step - loss: 0.2003 - accuracy: 0.9434 - val_loss: 0.2140 - val_accuracy: 0.9625\n",
      "Epoch 3/31\n",
      "2223/2223 [==============================] - 8s 4ms/step - loss: 0.1555 - accuracy: 0.9559 - val_loss: 0.2463 - val_accuracy: 0.9658\n",
      "Epoch 4/31\n",
      "2223/2223 [==============================] - 8s 4ms/step - loss: 0.1375 - accuracy: 0.9606 - val_loss: 0.1935 - val_accuracy: 0.9707\n",
      "Epoch 5/31\n",
      "2223/2223 [==============================] - 8s 4ms/step - loss: 0.1224 - accuracy: 0.9643 - val_loss: 0.1902 - val_accuracy: 0.9711\n",
      "Epoch 6/31\n",
      "2223/2223 [==============================] - 8s 4ms/step - loss: 0.1116 - accuracy: 0.9679 - val_loss: 0.1652 - val_accuracy: 0.9729\n",
      "Epoch 7/31\n",
      "2223/2223 [==============================] - 8s 4ms/step - loss: 0.1035 - accuracy: 0.9704 - val_loss: 0.1312 - val_accuracy: 0.9743\n",
      "Epoch 8/31\n",
      "2223/2223 [==============================] - 11s 5ms/step - loss: 0.0980 - accuracy: 0.9716 - val_loss: 0.2138 - val_accuracy: 0.9731\n",
      "Epoch 9/31\n",
      "2223/2223 [==============================] - 14s 6ms/step - loss: 0.0920 - accuracy: 0.9740 - val_loss: 0.1919 - val_accuracy: 0.9729\n",
      "Epoch 10/31\n",
      "2223/2223 [==============================] - 14s 6ms/step - loss: 0.0844 - accuracy: 0.9752 - val_loss: 0.1574 - val_accuracy: 0.9740\n",
      "Epoch 11/31\n",
      "2223/2223 [==============================] - 14s 7ms/step - loss: 0.0823 - accuracy: 0.9759 - val_loss: 0.1428 - val_accuracy: 0.9731\n",
      "Epoch 12/31\n",
      "2223/2223 [==============================] - 14s 6ms/step - loss: 0.0789 - accuracy: 0.9774 - val_loss: 0.2281 - val_accuracy: 0.9744\n",
      "Epoch 13/31\n",
      "2223/2223 [==============================] - 14s 6ms/step - loss: 0.0758 - accuracy: 0.9781 - val_loss: 0.1471 - val_accuracy: 0.9750\n",
      "Epoch 14/31\n",
      "2223/2223 [==============================] - 13s 6ms/step - loss: 0.0756 - accuracy: 0.9785 - val_loss: 0.1798 - val_accuracy: 0.9732\n",
      "Epoch 15/31\n",
      "2223/2223 [==============================] - 15s 7ms/step - loss: 0.0689 - accuracy: 0.9796 - val_loss: 0.1725 - val_accuracy: 0.9747\n",
      "Epoch 16/31\n",
      "2223/2223 [==============================] - 15s 7ms/step - loss: 0.0699 - accuracy: 0.9801 - val_loss: 0.1439 - val_accuracy: 0.9740\n",
      "Epoch 17/31\n",
      "2223/2223 [==============================] - 16s 7ms/step - loss: 0.0641 - accuracy: 0.9814 - val_loss: 0.1473 - val_accuracy: 0.9750\n",
      "Epoch 18/31\n",
      "2223/2223 [==============================] - 15s 7ms/step - loss: 0.0628 - accuracy: 0.9820 - val_loss: 0.1515 - val_accuracy: 0.9706\n",
      "Epoch 19/31\n",
      "2223/2223 [==============================] - 15s 7ms/step - loss: 0.0625 - accuracy: 0.9826 - val_loss: 0.1437 - val_accuracy: 0.9763\n",
      "Epoch 20/31\n",
      "2223/2223 [==============================] - 16s 7ms/step - loss: 0.0634 - accuracy: 0.9817 - val_loss: 0.1417 - val_accuracy: 0.9740\n",
      "Epoch 21/31\n",
      "2223/2223 [==============================] - 16s 7ms/step - loss: 0.0603 - accuracy: 0.9831 - val_loss: 0.1125 - val_accuracy: 0.9753\n",
      "Epoch 22/31\n",
      "2223/2223 [==============================] - 14s 6ms/step - loss: 0.0580 - accuracy: 0.9825 - val_loss: 0.1296 - val_accuracy: 0.9736\n",
      "Epoch 23/31\n",
      "2223/2223 [==============================] - 14s 6ms/step - loss: 0.0582 - accuracy: 0.9831 - val_loss: 0.1437 - val_accuracy: 0.9742\n",
      "Epoch 24/31\n",
      "2223/2223 [==============================] - 14s 6ms/step - loss: 0.0553 - accuracy: 0.9838 - val_loss: 0.1269 - val_accuracy: 0.9745\n",
      "Epoch 25/31\n",
      "2223/2223 [==============================] - 14s 6ms/step - loss: 0.0564 - accuracy: 0.9841 - val_loss: 0.1125 - val_accuracy: 0.9770\n",
      "Epoch 26/31\n",
      "2223/2223 [==============================] - 15s 7ms/step - loss: 0.0567 - accuracy: 0.9839 - val_loss: 0.1868 - val_accuracy: 0.9732\n",
      "Epoch 27/31\n",
      "2223/2223 [==============================] - 15s 7ms/step - loss: 0.0512 - accuracy: 0.9852 - val_loss: 0.2260 - val_accuracy: 0.9719\n",
      "Epoch 28/31\n",
      "2223/2223 [==============================] - 15s 7ms/step - loss: 0.0523 - accuracy: 0.9847 - val_loss: 0.1404 - val_accuracy: 0.9734\n",
      "Epoch 29/31\n",
      "2223/2223 [==============================] - 15s 7ms/step - loss: 0.0499 - accuracy: 0.9857 - val_loss: 0.1362 - val_accuracy: 0.9722\n",
      "Epoch 30/31\n",
      "2223/2223 [==============================] - 15s 7ms/step - loss: 0.0494 - accuracy: 0.9856 - val_loss: 0.1815 - val_accuracy: 0.9743\n",
      "Epoch 31/31\n",
      "2223/2223 [==============================] - 15s 7ms/step - loss: 0.0503 - accuracy: 0.9866 - val_loss: 0.1322 - val_accuracy: 0.9738\n"
     ]
    },
    {
     "data": {
      "text/plain": [
       "<keras.callbacks.History at 0x2b7fe059d90>"
      ]
     },
     "execution_count": 30,
     "metadata": {},
     "output_type": "execute_result"
    }
   ],
   "source": [
    "modelclass.fit(Trainx,Trainy,validation_data=(TestX,TestY), epochs=31, batch_size=27)"
   ]
  },
  {
   "cell_type": "code",
   "execution_count": 36,
   "id": "7336a8d2",
   "metadata": {},
   "outputs": [
    {
     "data": {
      "text/plain": [
       "<keras.callbacks.History at 0x1620f00c9a0>"
      ]
     },
     "execution_count": 36,
     "metadata": {},
     "output_type": "execute_result"
    }
   ],
   "source": [
    "tf.keras.callbacks.History()"
   ]
  },
  {
   "cell_type": "markdown",
   "id": "4eb12e9e",
   "metadata": {},
   "source": [
    "##ADAGRAD and adam usr and check\n",
    " "
   ]
  },
  {
   "cell_type": "code",
   "execution_count": 34,
   "id": "45828d4d",
   "metadata": {},
   "outputs": [
    {
     "name": "stdout",
     "output_type": "stream",
     "text": [
      "1/1 [==============================] - 0s 19ms/step\n",
      "THE PREDICTED NO IS: 7\n"
     ]
    }
   ],
   "source": [
    "import numpy as np\n",
    "prediction=modelclass.predict(TestX[0:1])\n",
    "predicted_num=np.argmax(prediction)\n",
    "print(\"THE PREDICTED NO IS:\",predicted_num)"
   ]
  },
  {
   "cell_type": "markdown",
   "id": "8380d423",
   "metadata": {},
   "source": [
    "##compared to sgd and sigmoid time taken and accuracy is great"
   ]
  }
 ],
 "metadata": {
  "kernelspec": {
   "display_name": "Python 3 (ipykernel)",
   "language": "python",
   "name": "python3"
  },
  "language_info": {
   "codemirror_mode": {
    "name": "ipython",
    "version": 3
   },
   "file_extension": ".py",
   "mimetype": "text/x-python",
   "name": "python",
   "nbconvert_exporter": "python",
   "pygments_lexer": "ipython3",
   "version": "3.9.7"
  }
 },
 "nbformat": 4,
 "nbformat_minor": 5
}
